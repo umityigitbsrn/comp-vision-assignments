{
 "cells": [
  {
   "cell_type": "code",
   "execution_count": 11,
   "metadata": {
    "collapsed": true,
    "ExecuteTime": {
     "end_time": "2023-06-07T00:05:31.134696202Z",
     "start_time": "2023-06-07T00:05:31.092629663Z"
    }
   },
   "outputs": [],
   "source": [
    "import cv2\n",
    "import os\n",
    "import numpy as np"
   ]
  },
  {
   "cell_type": "code",
   "execution_count": 15,
   "outputs": [],
   "source": [
    "data_path = os.path.join('.', 'Checkerboard Images')\n",
    "checkerboard_images_path_arr = os.listdir(data_path)\n",
    "\n",
    "number_of_samples = len(checkerboard_images_path_arr)\n",
    "image_height = 480\n",
    "image_width = 640\n",
    "data = np.zeros((number_of_samples, image_height, image_width), dtype=np.uint8)\n",
    "\n",
    "for checkerboard_image_path in checkerboard_images_path_arr:\n",
    "    img_idx = int(checkerboard_image_path.split('.')[0][5:])\n",
    "    if img_idx == 20:\n",
    "        img_idx = 18\n",
    "    else:\n",
    "        img_idx -= 1\n",
    "    checkerboard_image = os.path.join(data_path, checkerboard_image_path)\n",
    "    data[img_idx] = cv2.imread(checkerboard_image, cv2.IMREAD_GRAYSCALE)"
   ],
   "metadata": {
    "collapsed": false,
    "ExecuteTime": {
     "end_time": "2023-06-07T00:06:40.386308738Z",
     "start_time": "2023-06-07T00:06:40.343499663Z"
    }
   }
  },
  {
   "cell_type": "code",
   "execution_count": 69,
   "outputs": [
    {
     "name": "stdout",
     "output_type": "stream",
     "text": [
      "for img: 0, found with pattern size: (11, 12)\n",
      "for img: 0, found with pattern size: (12, 11)\n",
      "for img: 1, found with pattern size: (12, 12)\n",
      "for img: 2, found with pattern size: (12, 12)\n",
      "for img: 3, found with pattern size: (12, 12)\n",
      "for img: 5, found with pattern size: (12, 12)\n",
      "for img: 6, found with pattern size: (11, 12)\n",
      "for img: 6, found with pattern size: (12, 11)\n",
      "for img: 6, found with pattern size: (12, 12)\n",
      "for img: 7, found with pattern size: (10, 11)\n",
      "for img: 7, found with pattern size: (11, 10)\n",
      "for img: 8, found with pattern size: (12, 13)\n",
      "for img: 8, found with pattern size: (13, 12)\n",
      "for img: 9, found with pattern size: (12, 13)\n",
      "for img: 9, found with pattern size: (13, 12)\n",
      "for img: 10, found with pattern size: (12, 12)\n",
      "for img: 10, found with pattern size: (12, 13)\n",
      "for img: 10, found with pattern size: (13, 12)\n",
      "for img: 12, found with pattern size: (12, 12)\n",
      "for img: 13, found with pattern size: (11, 12)\n",
      "for img: 13, found with pattern size: (12, 11)\n",
      "for img: 13, found with pattern size: (12, 12)\n",
      "for img: 14, found with pattern size: (12, 12)\n",
      "for img: 15, found with pattern size: (12, 12)\n",
      "for img: 16, found with pattern size: (12, 13)\n",
      "for img: 16, found with pattern size: (13, 12)\n",
      "for img: 18, found with pattern size: (12, 13)\n",
      "for img: 18, found with pattern size: (13, 12)\n"
     ]
    }
   ],
   "source": [
    "cartesian = []\n",
    "for col in range(10, 15):\n",
    "    for row in range(10, 15):\n",
    "        cartesian.append((col, row))\n",
    "\n",
    "for idx, img in enumerate(data):\n",
    "    for cart_idx in cartesian:\n",
    "        ret, corners = cv2.findChessboardCorners(img, cart_idx, None)\n",
    "        if ret:\n",
    "            print('for img: {}, found with pattern size: {}'.format(idx, cart_idx))"
   ],
   "metadata": {
    "collapsed": false,
    "ExecuteTime": {
     "end_time": "2023-06-07T00:37:33.921398362Z",
     "start_time": "2023-06-07T00:36:46.375176851Z"
    }
   }
  }
 ],
 "metadata": {
  "kernelspec": {
   "display_name": "Python 3",
   "language": "python",
   "name": "python3"
  },
  "language_info": {
   "codemirror_mode": {
    "name": "ipython",
    "version": 2
   },
   "file_extension": ".py",
   "mimetype": "text/x-python",
   "name": "python",
   "nbconvert_exporter": "python",
   "pygments_lexer": "ipython2",
   "version": "2.7.6"
  }
 },
 "nbformat": 4,
 "nbformat_minor": 0
}

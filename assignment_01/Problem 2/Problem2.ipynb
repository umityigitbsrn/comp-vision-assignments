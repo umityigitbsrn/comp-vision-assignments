{
 "cells": [
  {
   "cell_type": "code",
   "execution_count": 5,
   "outputs": [
    {
     "name": "stderr",
     "output_type": "stream",
     "text": [
      "/home/umityigitbsrn/miniconda3/envs/pytorch-stable/lib/python3.10/site-packages/scipy/__init__.py:146: UserWarning: A NumPy version >=1.16.5 and <1.23.0 is required for this version of SciPy (detected version 1.23.5\n",
      "  warnings.warn(f\"A NumPy version >={np_minversion} and <{np_maxversion}\"\n"
     ]
    }
   ],
   "source": [
    "import numpy as np\n",
    "import cv2\n",
    "import matplotlib.pyplot as plt\n",
    "from scipy.ndimage import gaussian_laplace, gaussian_filter"
   ],
   "metadata": {
    "collapsed": false,
    "ExecuteTime": {
     "start_time": "2023-04-18T19:02:43.397444Z",
     "end_time": "2023-04-18T19:02:43.450369Z"
    }
   }
  },
  {
   "cell_type": "code",
   "execution_count": 37,
   "metadata": {
    "collapsed": true,
    "ExecuteTime": {
     "start_time": "2023-04-18T19:52:01.354969Z",
     "end_time": "2023-04-18T19:52:01.360249Z"
    }
   },
   "outputs": [],
   "source": [
    "def _log_filter(kernel_size: tuple[int, int], sigma: float) -> np.ndarray:\n",
    "    # laplacian of gradient filter\n",
    "\n",
    "    # laplacian of gradient function (log)\n",
    "    first_term = lambda arg: -1/(np.pi * (arg ** 4))\n",
    "    second_term = lambda arg_01, arg_02, arg_03: 1 - (((arg_01 ** 2) + (arg_02 ** 2)) / (2 * (arg_03 ** 2)))\n",
    "    exp_term = lambda arg_01, arg_02, arg_03: np.exp(-((arg_01 ** 2) + (arg_02 ** 2)) / (2 * (arg_03 ** 2)))\n",
    "    log = lambda arg_01, arg_02, arg_03: first_term(arg_03) * second_term(arg_01, arg_02, arg_03) * exp_term(arg_01, arg_02, arg_03)\n",
    "\n",
    "    x_len, y_len = kernel_size\n",
    "    kernel = np.zeros(kernel_size)\n",
    "    x_len_half = x_len // 2 # for -x_len_half to x_len_half\n",
    "    y_len_half = y_len // 2 # same for y axis\n",
    "\n",
    "    for x in range(-x_len_half, x_len_half + 1):\n",
    "        for y in range(-y_len_half, y_len_half + 1):\n",
    "            kernel[x + x_len_half, y + y_len_half] = log(x, y, sigma)\n",
    "    kernel = -40 * kernel / log(0, 0, sigma)\n",
    "    return kernel\n",
    "\n",
    "def _conv_zero_cross(img: np.ndarray, kernel: np.ndarray) -> np.ndarray:\n",
    "    # calculating output size\n",
    "    output_height = img.shape[0] - kernel.shape[0] + 1\n",
    "    output_width = img.shape[1] - kernel.shape[1] + 1\n",
    "    output = np.zeros((output_height, output_width))\n",
    "\n",
    "    for h_index in range(output_height):\n",
    "        for w_index in range(output_width):\n",
    "            output[h_index, w_index] = np.sum(img[h_index:(h_index+kernel.shape[0]), w_index:(w_index+kernel.shape[1])] * kernel)\n",
    "\n",
    "    return output\n",
    "\n",
    "def edge_detector():\n",
    "    # load the image\n",
    "    img = cv2.imread('./house.tif', cv2.IMREAD_GRAYSCALE)\n",
    "\n",
    "    # compute laplacian of gaussian\n",
    "    kernel = _log_filter((9, 9), 1.4).astype(int)\n",
    "    print(kernel)\n",
    "    print(np.sum(kernel))\n",
    "\n",
    "    # find the zero crossing points\n",
    "    # output = _conv_zero_cross(img, kernel)\n",
    "    # print(output)\n",
    "    # return output"
   ]
  },
  {
   "cell_type": "code",
   "execution_count": 38,
   "outputs": [
    {
     "name": "stdout",
     "output_type": "stream",
     "text": [
      "[[  0   0   0   1   2   1   0   0   0]\n",
      " [  0   1   3   4   5   4   3   1   0]\n",
      " [  0   3   5   3   0   3   5   3   0]\n",
      " [  1   4   3 -11 -23 -11   3   4   1]\n",
      " [  2   5   0 -23 -40 -23   0   5   2]\n",
      " [  1   4   3 -11 -23 -11   3   4   1]\n",
      " [  0   3   5   3   0   3   5   3   0]\n",
      " [  0   1   3   4   5   4   3   1   0]\n",
      " [  0   0   0   1   2   1   0   0   0]]\n",
      "-36\n"
     ]
    }
   ],
   "source": [
    "edge_detector()"
   ],
   "metadata": {
    "collapsed": false,
    "ExecuteTime": {
     "start_time": "2023-04-18T19:52:04.128129Z",
     "end_time": "2023-04-18T19:52:04.129854Z"
    }
   }
  },
  {
   "cell_type": "code",
   "execution_count": null,
   "outputs": [],
   "source": [
    "def Hough_transform():\n",
    "    pass"
   ],
   "metadata": {
    "collapsed": false
   }
  },
  {
   "cell_type": "code",
   "execution_count": null,
   "outputs": [],
   "source": [],
   "metadata": {
    "collapsed": false
   }
  }
 ],
 "metadata": {
  "kernelspec": {
   "display_name": "Python 3",
   "language": "python",
   "name": "python3"
  },
  "language_info": {
   "codemirror_mode": {
    "name": "ipython",
    "version": 2
   },
   "file_extension": ".py",
   "mimetype": "text/x-python",
   "name": "python",
   "nbconvert_exporter": "python",
   "pygments_lexer": "ipython2",
   "version": "2.7.6"
  }
 },
 "nbformat": 4,
 "nbformat_minor": 0
}

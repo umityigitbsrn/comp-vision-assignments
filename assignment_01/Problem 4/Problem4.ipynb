{
 "cells": [
  {
   "cell_type": "code",
   "execution_count": 5,
   "metadata": {
    "collapsed": true,
    "ExecuteTime": {
     "start_time": "2023-04-20T20:17:05.255228Z",
     "end_time": "2023-04-20T20:17:05.296605Z"
    }
   },
   "outputs": [],
   "source": [
    "import scipy.io as sio"
   ]
  },
  {
   "cell_type": "code",
   "execution_count": 6,
   "outputs": [
    {
     "name": "stdout",
     "output_type": "stream",
     "text": [
      "AlexNet Features Size: (50000, 256)\n",
      "AlexNet Label Size: (1, 50000)\n"
     ]
    }
   ],
   "source": [
    "# AlexNet feature and label shapes\n",
    "alexnet_mat = sio.loadmat('alexnet.mat')\n",
    "print('AlexNet Features Size: {}\\nAlexNet Label Size: {}'.format(alexnet_mat['feature'].shape, alexnet_mat['label'].shape))"
   ],
   "metadata": {
    "collapsed": false,
    "ExecuteTime": {
     "start_time": "2023-04-20T20:17:06.256921Z",
     "end_time": "2023-04-20T20:17:06.289967Z"
    }
   }
  },
  {
   "cell_type": "code",
   "execution_count": 7,
   "outputs": [
    {
     "name": "stdout",
     "output_type": "stream",
     "text": [
      "VGG16 Features Size: (50000, 4096)\n",
      "VGG16 Label Size: (1, 50000)\n"
     ]
    }
   ],
   "source": [
    "# VGG16 feature and label shapes\n",
    "vgg16_mat = sio.loadmat('vgg16.mat')\n",
    "print('VGG16 Features Size: {}\\nVGG16 Label Size: {}'.format(vgg16_mat['feature'].shape, vgg16_mat['label'].shape))"
   ],
   "metadata": {
    "collapsed": false,
    "ExecuteTime": {
     "start_time": "2023-04-20T20:17:08.285922Z",
     "end_time": "2023-04-20T20:17:08.562585Z"
    }
   }
  }
 ],
 "metadata": {
  "kernelspec": {
   "display_name": "Python 3",
   "language": "python",
   "name": "python3"
  },
  "language_info": {
   "codemirror_mode": {
    "name": "ipython",
    "version": 2
   },
   "file_extension": ".py",
   "mimetype": "text/x-python",
   "name": "python",
   "nbconvert_exporter": "python",
   "pygments_lexer": "ipython2",
   "version": "2.7.6"
  }
 },
 "nbformat": 4,
 "nbformat_minor": 0
}

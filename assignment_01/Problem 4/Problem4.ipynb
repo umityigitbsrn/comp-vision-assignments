{
 "cells": [
  {
   "cell_type": "code",
   "execution_count": 1,
   "metadata": {
    "collapsed": true,
    "ExecuteTime": {
     "start_time": "2023-04-26T12:39:20.554249Z",
     "end_time": "2023-04-26T12:39:21.243402Z"
    }
   },
   "outputs": [
    {
     "name": "stderr",
     "output_type": "stream",
     "text": [
      "/home/umityigitbsrn/miniconda3/envs/pytorch-stable/lib/python3.10/site-packages/scipy/__init__.py:146: UserWarning: A NumPy version >=1.16.5 and <1.23.0 is required for this version of SciPy (detected version 1.23.5\n",
      "  warnings.warn(f\"A NumPy version >={np_minversion} and <{np_maxversion}\"\n"
     ]
    }
   ],
   "source": [
    "import scipy.io as sio\n",
    "from extract_features import KNN_test\n",
    "from torchvision import transforms\n",
    "import torchvision\n",
    "from torch.utils.data import DataLoader"
   ]
  },
  {
   "cell_type": "code",
   "execution_count": 2,
   "outputs": [
    {
     "name": "stdout",
     "output_type": "stream",
     "text": [
      "/home/umityigitbsrn/miniconda3/envs/pytorch-stable/lib/python3.10/site-packages/scipy/__init__.py:146: UserWarning: A NumPy version >=1.16.5 and <1.23.0 is required for this version of SciPy (detected version 1.23.5\r\n",
      "  warnings.warn(f\"A NumPy version >={np_minversion} and <{np_maxversion}\"\r\n",
      "Downloading https://www.cs.toronto.edu/~kriz/cifar-10-python.tar.gz to ./data/cifar-10-python.tar.gz\r\n",
      "100%|████████████████████████| 170498071/170498071 [00:17<00:00, 9607681.31it/s]\r\n",
      "Extracting ./data/cifar-10-python.tar.gz to ./data\r\n",
      "iter: 1, F_vgg size: torch.Size([500, 4096])\r\n",
      "iter: 1, F_alex size: torch.Size([500, 256])\r\n",
      "iter: 1, len alex_feature: 1, vgg_feature: 1\r\n",
      "iter: 50, F_vgg size: torch.Size([500, 4096])\r\n",
      "iter: 50, F_alex size: torch.Size([500, 256])\r\n",
      "iter: 50, len alex_feature: 50, vgg_feature: 50\r\n",
      "iter: 100, F_vgg size: torch.Size([500, 4096])\r\n",
      "iter: 100, F_alex size: torch.Size([500, 256])\r\n",
      "iter: 100, len alex_feature: 100, vgg_feature: 100\r\n"
     ]
    }
   ],
   "source": [
    "!python extract_features.py"
   ],
   "metadata": {
    "collapsed": false,
    "ExecuteTime": {
     "start_time": "2023-04-25T23:36:17.821832Z",
     "end_time": "2023-04-25T23:36:54.723908Z"
    }
   }
  },
  {
   "cell_type": "code",
   "execution_count": 3,
   "outputs": [
    {
     "name": "stdout",
     "output_type": "stream",
     "text": [
      "AlexNet Features Size: (50000, 256)\n",
      "AlexNet Label Size: (1, 50000)\n"
     ]
    }
   ],
   "source": [
    "# AlexNet feature and label shapes\n",
    "alexnet_mat = sio.loadmat('alexnet.mat')\n",
    "print('AlexNet Features Size: {}\\nAlexNet Label Size: {}'.format(alexnet_mat['feature'].shape, alexnet_mat['label'].shape))"
   ],
   "metadata": {
    "collapsed": false,
    "ExecuteTime": {
     "start_time": "2023-04-25T23:37:07.984306Z",
     "end_time": "2023-04-25T23:37:08.005333Z"
    }
   }
  },
  {
   "cell_type": "code",
   "execution_count": 4,
   "outputs": [
    {
     "name": "stdout",
     "output_type": "stream",
     "text": [
      "VGG16 Features Size: (50000, 4096)\n",
      "VGG16 Label Size: (1, 50000)\n"
     ]
    }
   ],
   "source": [
    "# VGG16 feature and label shapes\n",
    "vgg16_mat = sio.loadmat('vgg16.mat')\n",
    "print('VGG16 Features Size: {}\\nVGG16 Label Size: {}'.format(vgg16_mat['feature'].shape, vgg16_mat['label'].shape))"
   ],
   "metadata": {
    "collapsed": false,
    "ExecuteTime": {
     "start_time": "2023-04-25T23:37:09.325724Z",
     "end_time": "2023-04-25T23:37:09.649519Z"
    }
   }
  },
  {
   "cell_type": "code",
   "execution_count": 2,
   "outputs": [
    {
     "name": "stdout",
     "output_type": "stream",
     "text": [
      "Files already downloaded and verified\n",
      "iter: 1, total evaluated sample: 500, curr vgg acc: 0.474, curr alex acc: 0.296\n",
      "iter: 2, total evaluated sample: 1000, curr vgg acc: 0.484, curr alex acc: 0.309\n",
      "iter: 3, total evaluated sample: 1500, curr vgg acc: 0.49933333333333335, curr alex acc: 0.312\n",
      "iter: 4, total evaluated sample: 2000, curr vgg acc: 0.5, curr alex acc: 0.3155\n",
      "iter: 5, total evaluated sample: 2500, curr vgg acc: 0.5, curr alex acc: 0.318\n",
      "iter: 6, total evaluated sample: 3000, curr vgg acc: 0.5093333333333333, curr alex acc: 0.31866666666666665\n",
      "iter: 7, total evaluated sample: 3500, curr vgg acc: 0.5145714285714286, curr alex acc: 0.318\n",
      "iter: 8, total evaluated sample: 4000, curr vgg acc: 0.514, curr alex acc: 0.32\n",
      "iter: 9, total evaluated sample: 4500, curr vgg acc: 0.516, curr alex acc: 0.324\n",
      "iter: 10, total evaluated sample: 5000, curr vgg acc: 0.5144, curr alex acc: 0.325\n",
      "iter: 11, total evaluated sample: 5500, curr vgg acc: 0.51, curr alex acc: 0.32236363636363635\n",
      "iter: 12, total evaluated sample: 6000, curr vgg acc: 0.5095, curr alex acc: 0.32066666666666666\n",
      "iter: 13, total evaluated sample: 6500, curr vgg acc: 0.5112307692307693, curr alex acc: 0.3203076923076923\n",
      "iter: 14, total evaluated sample: 7000, curr vgg acc: 0.5114285714285715, curr alex acc: 0.322\n",
      "iter: 15, total evaluated sample: 7500, curr vgg acc: 0.5130666666666667, curr alex acc: 0.3216\n",
      "iter: 16, total evaluated sample: 8000, curr vgg acc: 0.51375, curr alex acc: 0.32175\n",
      "iter: 17, total evaluated sample: 8500, curr vgg acc: 0.5128235294117647, curr alex acc: 0.32094117647058823\n",
      "iter: 18, total evaluated sample: 9000, curr vgg acc: 0.5138888888888888, curr alex acc: 0.3224444444444444\n",
      "iter: 19, total evaluated sample: 9500, curr vgg acc: 0.5151578947368421, curr alex acc: 0.32210526315789473\n",
      "iter: 20, total evaluated sample: 10000, curr vgg acc: 0.5155, curr alex acc: 0.3225\n",
      "VGG16 Accuracy: 0.5155\n",
      "AlexNet Accuracy: 0.3225\n"
     ]
    }
   ],
   "source": [
    "transform = transforms.Compose([\n",
    "    transforms.Resize(32),\n",
    "    transforms.ToTensor(),\n",
    "    transforms.Normalize((0.4914, 0.4822, 0.4465), (0.2023, 0.1994, 0.2010)),\n",
    "])\n",
    "\n",
    "test_data = torchvision.datasets.CIFAR10(root='./data', train=False,\n",
    "                                          download=True, transform=transform)\n",
    "\n",
    "batch_size = 500\n",
    "test_loader = DataLoader(test_data, batch_size=batch_size, shuffle=False)\n",
    "\n",
    "vgg16_acc, alexnet_acc = KNN_test('.', test_loader)\n",
    "print('VGG16 Accuracy: {}\\nAlexNet Accuracy: {}'.format(vgg16_acc, alexnet_acc))"
   ],
   "metadata": {
    "collapsed": false,
    "ExecuteTime": {
     "start_time": "2023-04-26T12:39:23.628236Z",
     "end_time": "2023-04-26T15:04:33.970799Z"
    }
   }
  }
 ],
 "metadata": {
  "kernelspec": {
   "display_name": "Python 3",
   "language": "python",
   "name": "python3"
  },
  "language_info": {
   "codemirror_mode": {
    "name": "ipython",
    "version": 2
   },
   "file_extension": ".py",
   "mimetype": "text/x-python",
   "name": "python",
   "nbconvert_exporter": "python",
   "pygments_lexer": "ipython2",
   "version": "2.7.6"
  }
 },
 "nbformat": 4,
 "nbformat_minor": 0
}

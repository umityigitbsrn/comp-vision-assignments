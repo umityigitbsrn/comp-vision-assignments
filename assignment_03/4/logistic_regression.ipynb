{
  "nbformat": 4,
  "nbformat_minor": 0,
  "metadata": {
    "colab": {
      "provenance": []
    },
    "kernelspec": {
      "name": "python3",
      "display_name": "Python 3"
    },
    "language_info": {
      "name": "python"
    }
  },
  "cells": [
    {
      "cell_type": "code",
      "source": [
        "\n",
        "import numpy as np\n",
        "import scipy.io as io\n",
        "# import all other relevant packages here"
      ],
      "metadata": {
        "id": "vh140o_rkZs-"
      },
      "execution_count": null,
      "outputs": []
    },
    {
      "cell_type": "code",
      "source": [
        "def apply_gradients(x,l,theta,lr):\n",
        "  # x is a matrix of size n_samples x n_feature\n",
        "  # l is a vector of size n_samples x n_class\n",
        "  # theta is a matrix of size n_feature x n_class\n",
        "  # lr is the learning rate\n",
        "  # returns  weights in the variable new_theta \n",
        "\n",
        "  # FILL IN\n",
        "  return new_theta"
      ],
      "metadata": {
        "id": "9VttZvDRkcUK"
      },
      "execution_count": null,
      "outputs": []
    },
    {
      "cell_type": "code",
      "source": [
        "def getROC(pred,gt):\n",
        "\n",
        "  # gt is the ground truth vector of 1 or 0 of size n_samples x 1. 1 indicates a positive and 0 negative\n",
        "  # pred is a vector of predictions of size n_samples x 1\n",
        "  # TPR is the True Positive Rate\n",
        "  # FPR is the False Positive Rate\n",
        "  # returns TPR and FPR\n",
        "\n",
        "  # FILL IN\n",
        "  return TPR,FPR"
      ],
      "metadata": {
        "id": "CrTzTDNxk07K"
      },
      "execution_count": null,
      "outputs": []
    },
    {
      "cell_type": "code",
      "execution_count": null,
      "metadata": {
        "id": "lQdvDcT_hCQD"
      },
      "outputs": [],
      "source": [
        "# DO NOT MODIFY ANYTHING IF NOT MENTIONED\n",
        "\n",
        "\n",
        "\n",
        "# write code to load subset.mat\n",
        "subset = \n",
        "\n",
        "# write code to load feature matrix from ucf101dataset.mat\n",
        "all_features = \n",
        "\n",
        "trlabelidx =  np.where(subset=='training')[0]\n",
        "telabelidx =  np.where(subset=='testing')[0]\n",
        "\n",
        "# write code to get training and testing labels and features based on the above indices\n",
        "trfeature = \n",
        "tefeature = \n",
        "trlabel = \n",
        "telabel =\n",
        "\n",
        "\n",
        "batchsize= # FILL IN AND MODIFY TO SEE CHANGE IN PERFORMANCE\n",
        "lr = # FILL IN AND MODIFY TO SEE CHANGE IN PERFORMANCE\n",
        "classlist = np.unique(trlabel) \n",
        "\n",
        "# write code to convert trlabel and telabel to one hot vectors with dimensions no of samples x number of categories \n",
        "trlabel1hot = \n",
        "telabel1hot = \n",
        "\n",
        "\n",
        "theta =  # INITIALIZE  FILL IN\n",
        "diff = 1 \n",
        "epoch = 1 \n",
        "\n",
        "while diff > 1e-10 and epoch < 4000:\n",
        "    theta_old = theta \n",
        "    \n",
        "    # Train\n",
        "    for i in range (1,len(trlabel),batchsize):\n",
        "        endpos = min(len(trlabel)-1,i+batchsize) \n",
        "        theta = apply_gradients(trfeature[i:endpos,:],trlabel1hot[i:endpos,:],theta,lr) \n",
        "    \n",
        "    \n",
        "    diff = np.norm(theta_old-theta) \n",
        "    \n",
        "    # Write code for prediction  \n",
        "    \n",
        "    # FILL IN TO ASSIGN test accuracy to variable test_accuracy using the prediction made above\n",
        "    test_accuracy = \n",
        "\n",
        "    # Write code to plot test accuracy vs epoch must update itself as the while loop progresses\n",
        "    \n",
        "    epoch = epoch + 1 \n",
        "    \n",
        "    # Update Learning Rate  FILL IN IF REQUIRED\n",
        "\n",
        "\n",
        "# Print final test accuracy\n",
        "\n",
        "# FILL IN THE FIRST ARGUMENT  SHOULD BE A COLUMN VECTOR CONTAINING THE 50th CATEGORY PREDICTION\n",
        "TPR, FPR = getROC(,telabel1hot[,50]) \n",
        "\n",
        "# PLOT TPR VS FPR CURVE HERE"
      ]
    }
  ]
}
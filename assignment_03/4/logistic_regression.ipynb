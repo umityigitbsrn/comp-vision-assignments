{
 "nbformat": 4,
 "nbformat_minor": 0,
 "metadata": {
  "colab": {
   "provenance": []
  },
  "kernelspec": {
   "name": "python3",
   "language": "python",
   "display_name": "Python 3 (ipykernel)"
  },
  "language_info": {
   "name": "python"
  }
 },
 "cells": [
  {
   "cell_type": "code",
   "source": [
    "import numpy as np\n",
    "import scipy.io as io\n",
    "# import all other relevant packages here\n",
    "import matplotlib.pyplot as plt\n",
    "import copy"
   ],
   "metadata": {
    "id": "vh140o_rkZs-",
    "ExecuteTime": {
     "end_time": "2023-05-13T05:26:14.374196128Z",
     "start_time": "2023-05-13T05:26:14.232150793Z"
    }
   },
   "execution_count": 1,
   "outputs": [
    {
     "name": "stderr",
     "output_type": "stream",
     "text": [
      "/home/umityigitbsrn/miniconda3/envs/pytorch-stable/lib/python3.10/site-packages/scipy/__init__.py:146: UserWarning: A NumPy version >=1.16.5 and <1.23.0 is required for this version of SciPy (detected version 1.23.5\n",
      "  warnings.warn(f\"A NumPy version >={np_minversion} and <{np_maxversion}\"\n"
     ]
    }
   ]
  },
  {
   "cell_type": "code",
   "source": [
    "def softmax(preds: np.ndarray) -> np.ndarray:\n",
    "    \"\"\"\n",
    "    Args:\n",
    "        preds: nxk input where n is sample size and k is number of class\n",
    "\n",
    "    Returns:\n",
    "        result: nxk output\n",
    "    \"\"\"\n",
    "    exp_preds = np.exp(preds)\n",
    "    sum_preds = np.sum(exp_preds, axis=1, keepdims=True)\n",
    "    return exp_preds / sum_preds\n",
    "\n",
    "def logistic_gradient(data: np.ndarray, onehot_label: np.ndarray, weights: np.ndarray) -> np.ndarray:\n",
    "    \"\"\"\n",
    "\n",
    "    Args:\n",
    "        data: nxd input where d is num of features\n",
    "        onehot_label: nxk where k is num of class\n",
    "        weights: dxk\n",
    "\n",
    "    Returns:\n",
    "        grad: dxk output gradient\n",
    "    \"\"\"\n",
    "    return data.T @ (softmax(data @ weights) - onehot_label)\n",
    "\n",
    "def apply_gradients(x, l, theta_arg, lr_arg):\n",
    "  # x is a matrix of size n_samples x n_feature\n",
    "  # l is a vector of size n_samples x n_class\n",
    "  # theta is a matrix of size n_feature x n_class\n",
    "  # lr is the learning rate\n",
    "  # returns  weights in the variable new_theta \n",
    "\n",
    "  # FILL IN\n",
    "  new_theta = theta_arg - (lr_arg * logistic_gradient(x, l, theta_arg))\n",
    "  return new_theta\n",
    "\n",
    "def accuracy(test_data, test_label, weights):\n",
    "    y_pred = softmax(test_data @ weights)\n",
    "    preds = np.argmax(y_pred, axis=1)\n",
    "    return np.count_nonzero(preds == np.argmax(test_label, axis=1)) / test_data.shape[0]\n",
    "\n",
    "def loss_fnc(data, onehot_label, weights):\n",
    "    trace = np.trace(onehot_label @ np.log(softmax(data @ weights).T))\n",
    "    return -1 * trace / data.shape[0]"
   ],
   "metadata": {
    "id": "9VttZvDRkcUK",
    "ExecuteTime": {
     "end_time": "2023-05-13T05:26:15.112388028Z",
     "start_time": "2023-05-13T05:26:15.111529820Z"
    }
   },
   "execution_count": 2,
   "outputs": []
  },
  {
   "cell_type": "code",
   "source": [
    "def getROC(pred,gt):\n",
    "    # gt is the ground truth vector of 1 or 0 of size n_samples x 1. 1 indicates a positive and 0 negative\n",
    "    # pred is a vector of predictions of size n_samples x 1\n",
    "    # TPR is the True Positive Rate\n",
    "    # FPR is the False Positive Rate\n",
    "    # returns TPR and FPR\n",
    "\n",
    "    pred, gt = pred.squeeze(), gt.squeeze()\n",
    "\n",
    "    # Sort the predictions in descending order\n",
    "    sorted_idx = np.argsort(pred)[::-1]\n",
    "    pred = pred[sorted_idx]\n",
    "    gt = gt[sorted_idx]\n",
    "\n",
    "    # Calculate the true positive rate (TPR) and false positive rate (FPR) for different thresholds\n",
    "    tpr_list = []\n",
    "    fpr_list = []\n",
    "    for idx_roc in range(len(gt)):\n",
    "        threshold = pred[idx_roc]\n",
    "        tp = np.sum((gt == 1) & (pred >= threshold))\n",
    "        fp = np.sum((gt == 0) & (pred >= threshold))\n",
    "        tn = np.sum((gt == 0) & (pred < threshold))\n",
    "        fn = np.sum((gt == 1) & (pred < threshold))\n",
    "        tpr = tp / (tp + fn)\n",
    "        fpr = fp / (fp + tn)\n",
    "        tpr_list.append(tpr)\n",
    "        fpr_list.append(fpr)\n",
    "\n",
    "    return tpr_list, fpr_list"
   ],
   "metadata": {
    "id": "CrTzTDNxk07K",
    "ExecuteTime": {
     "end_time": "2023-05-13T05:26:15.925791676Z",
     "start_time": "2023-05-13T05:26:15.923830187Z"
    }
   },
   "execution_count": 3,
   "outputs": []
  },
  {
   "cell_type": "code",
   "execution_count": 4,
   "outputs": [],
   "source": [
    "# DO NOT MODIFY ANYTHING IF NOT MENTIONED\n",
    "\n",
    "# write code to load subset.mat\n",
    "subset = io.loadmat('subset.mat')['subset']"
   ],
   "metadata": {
    "collapsed": false,
    "ExecuteTime": {
     "end_time": "2023-05-13T05:26:16.573008965Z",
     "start_time": "2023-05-13T05:26:16.567955835Z"
    }
   }
  },
  {
   "cell_type": "code",
   "execution_count": 5,
   "outputs": [],
   "source": [
    "# write code to load feature matrix from ucf101dataset.mat\n",
    "all_features = io.loadmat('../3/ucf101dataset.mat')\n",
    "\n",
    "trlabelidx =  np.where(subset=='training')[0]\n",
    "telabelidx =  np.where(subset=='testing ')[0]"
   ],
   "metadata": {
    "collapsed": false,
    "ExecuteTime": {
     "end_time": "2023-05-13T05:26:17.274644868Z",
     "start_time": "2023-05-13T05:26:17.231354088Z"
    }
   }
  },
  {
   "cell_type": "code",
   "execution_count": 6,
   "outputs": [
    {
     "name": "stdout",
     "output_type": "stream",
     "text": [
      "train feature size: (9537, 2048), label size: (9537,)\n",
      "test feature size: (3783, 2048), label size: (3783,)\n"
     ]
    }
   ],
   "source": [
    "# write code to get training and testing labels and features based on the above indices\n",
    "trfeature = all_features['feature'][trlabelidx]\n",
    "tefeature = all_features['feature'][telabelidx]\n",
    "trlabel = all_features['label'].squeeze()[trlabelidx]\n",
    "telabel = all_features['label'].squeeze()[telabelidx]\n",
    "print('train feature size: {}, label size: {}'.format(trfeature.shape, trlabel.shape))\n",
    "print('test feature size: {}, label size: {}'.format(tefeature.shape, telabel.shape))"
   ],
   "metadata": {
    "collapsed": false,
    "ExecuteTime": {
     "end_time": "2023-05-13T05:26:17.963623595Z",
     "start_time": "2023-05-13T05:26:17.894653338Z"
    }
   }
  },
  {
   "cell_type": "code",
   "execution_count": 7,
   "outputs": [],
   "source": [
    "batchsize= 32 # FILL IN AND MODIFY TO SEE CHANGE IN PERFORMANCE\n",
    "lr = 0.01 # FILL IN AND MODIFY TO SEE CHANGE IN PERFORMANCE\n",
    "classlist = np.unique(trlabel)\n",
    "num_of_feature = trfeature.shape[1]\n",
    "num_of_class = len(classlist)"
   ],
   "metadata": {
    "collapsed": false,
    "ExecuteTime": {
     "end_time": "2023-05-13T05:26:19.043834691Z",
     "start_time": "2023-05-13T05:26:19.041838240Z"
    }
   }
  },
  {
   "cell_type": "code",
   "execution_count": 8,
   "outputs": [
    {
     "name": "stdout",
     "output_type": "stream",
     "text": [
      "train one hot label size: (9537,), test one hot label size: (3783,)\n"
     ]
    }
   ],
   "source": [
    "# write code to convert trlabel and telabel to one hot vectors with dimensions no of samples x number of categories\n",
    "trlabel1hot = np.zeros((trlabel.shape[0], num_of_class))\n",
    "for idx, label in enumerate(trlabel):\n",
    "    trlabel1hot[idx, label] = 1\n",
    "telabel1hot = np.zeros((telabel.shape[0], num_of_class))\n",
    "for idx, label in enumerate(telabel):\n",
    "    telabel1hot[idx, label] = 1\n",
    "print('train one hot label size: {}, test one hot label size: {}'.format(trlabel.shape, telabel.shape))"
   ],
   "metadata": {
    "collapsed": false,
    "ExecuteTime": {
     "end_time": "2023-05-13T05:26:19.961499682Z",
     "start_time": "2023-05-13T05:26:19.957691611Z"
    }
   }
  },
  {
   "cell_type": "code",
   "execution_count": 9,
   "metadata": {
    "id": "lQdvDcT_hCQD",
    "ExecuteTime": {
     "end_time": "2023-05-13T05:27:30.525959016Z",
     "start_time": "2023-05-13T05:26:20.932125165Z"
    }
   },
   "outputs": [
    {
     "name": "stdout",
     "output_type": "stream",
     "text": [
      "epoch: 1, acc: 0.059212265397832406\n",
      "epoch: 2, acc: 0.1176315093840867\n",
      "epoch: 3, acc: 0.19957705524715835\n",
      "epoch: 4, acc: 0.23790642347343377\n",
      "epoch: 5, acc: 0.31007137192704204\n",
      "epoch: 6, acc: 0.3745704467353952\n",
      "epoch: 7, acc: 0.41263547449114457\n",
      "epoch: 8, acc: 0.4345757335448057\n",
      "epoch: 9, acc: 0.4425059476605868\n",
      "epoch: 10, acc: 0.45889505683320114\n",
      "epoch: 11, acc: 0.4956383822363204\n",
      "epoch: 12, acc: 0.48850118953211735\n",
      "epoch: 13, acc: 0.5093840867036743\n",
      "epoch: 14, acc: 0.528416600581549\n",
      "epoch: 15, acc: 0.5167856198784034\n",
      "epoch: 16, acc: 0.5313243457573354\n",
      "epoch: 17, acc: 0.5514142215173143\n",
      "epoch: 18, acc: 0.5532646048109966\n",
      "epoch: 19, acc: 0.5395189003436426\n",
      "epoch: 20, acc: 0.5601374570446735\n",
      "epoch: 21, acc: 0.5667459688078245\n",
      "epoch: 22, acc: 0.5693893735130848\n",
      "epoch: 23, acc: 0.5738831615120275\n",
      "epoch: 24, acc: 0.5849854612741211\n",
      "epoch: 25, acc: 0.5746761829236056\n",
      "epoch: 26, acc: 0.5863071636267513\n",
      "epoch: 27, acc: 0.5852498017446471\n",
      "epoch: 28, acc: 0.591329632566746\n",
      "epoch: 29, acc: 0.6093047845625165\n",
      "epoch: 30, acc: 0.5997885276235791\n",
      "epoch: 31, acc: 0.6019032513877874\n",
      "epoch: 32, acc: 0.6222574676182924\n",
      "epoch: 33, acc: 0.6119481892677769\n",
      "epoch: 34, acc: 0.6288659793814433\n",
      "epoch: 35, acc: 0.6296590007930214\n",
      "epoch: 36, acc: 0.6354744911445942\n",
      "epoch: 37, acc: 0.640761300555115\n",
      "epoch: 38, acc: 0.6455194290245837\n",
      "epoch: 39, acc: 0.647369812318266\n",
      "epoch: 40, acc: 0.647634152788792\n",
      "epoch: 41, acc: 0.6489558551414222\n",
      "epoch: 42, acc: 0.6510705789056305\n",
      "epoch: 43, acc: 0.6508062384351044\n",
      "epoch: 44, acc: 0.6542426645519429\n",
      "epoch: 45, acc: 0.654507005022469\n",
      "epoch: 46, acc: 0.6553000264340471\n",
      "epoch: 47, acc: 0.6571504097277293\n",
      "epoch: 48, acc: 0.6571504097277293\n",
      "epoch: 49, acc: 0.6563573883161512\n",
      "epoch: 50, acc: 0.6566217287866772\n",
      "epoch: 51, acc: 0.6568860692572033\n",
      "epoch: 52, acc: 0.6563573883161512\n",
      "epoch: 53, acc: 0.6563573883161512\n",
      "epoch: 54, acc: 0.6568860692572033\n",
      "epoch: 55, acc: 0.6576790906687814\n",
      "epoch: 56, acc: 0.6584721120803595\n",
      "epoch: 57, acc: 0.6584721120803595\n",
      "epoch: 58, acc: 0.6579434311393074\n",
      "epoch: 59, acc: 0.6576790906687814\n",
      "epoch: 60, acc: 0.6579434311393074\n",
      "epoch: 61, acc: 0.6579434311393074\n",
      "epoch: 62, acc: 0.6576790906687814\n",
      "epoch: 63, acc: 0.6582077716098335\n",
      "epoch: 64, acc: 0.6582077716098335\n",
      "epoch: 65, acc: 0.6579434311393074\n",
      "epoch: 66, acc: 0.6579434311393074\n",
      "epoch: 67, acc: 0.6582077716098335\n",
      "epoch: 68, acc: 0.6582077716098335\n",
      "epoch: 69, acc: 0.6576790906687814\n",
      "epoch: 70, acc: 0.6576790906687814\n",
      "epoch: 71, acc: 0.6579434311393074\n",
      "epoch: 72, acc: 0.6579434311393074\n",
      "epoch: 73, acc: 0.6584721120803595\n",
      "epoch: 74, acc: 0.6584721120803595\n",
      "epoch: 75, acc: 0.6587364525508855\n",
      "epoch: 76, acc: 0.6584721120803595\n",
      "epoch: 77, acc: 0.6584721120803595\n",
      "epoch: 78, acc: 0.6592651334919376\n",
      "epoch: 79, acc: 0.6592651334919376\n",
      "epoch: 80, acc: 0.6592651334919376\n",
      "epoch: 81, acc: 0.6595294739624636\n",
      "epoch: 82, acc: 0.6595294739624636\n",
      "epoch: 83, acc: 0.6600581549035157\n",
      "epoch: 84, acc: 0.6603224953740418\n",
      "epoch: 85, acc: 0.6600581549035157\n",
      "epoch: 86, acc: 0.6600581549035157\n",
      "epoch: 87, acc: 0.6600581549035157\n",
      "epoch: 88, acc: 0.6600581549035157\n",
      "epoch: 89, acc: 0.6605868358445678\n",
      "epoch: 90, acc: 0.6605868358445678\n",
      "epoch: 91, acc: 0.6605868358445678\n",
      "epoch: 92, acc: 0.6605868358445678\n",
      "epoch: 93, acc: 0.6605868358445678\n",
      "epoch: 94, acc: 0.6603224953740418\n",
      "epoch: 95, acc: 0.6605868358445678\n",
      "epoch: 96, acc: 0.6605868358445678\n",
      "epoch: 97, acc: 0.6608511763150938\n",
      "epoch: 98, acc: 0.6608511763150938\n",
      "epoch: 99, acc: 0.6608511763150938\n",
      "epoch: 100, acc: 0.6608511763150938\n",
      "epoch: 101, acc: 0.6608511763150938\n",
      "epoch: 102, acc: 0.6611155167856199\n",
      "epoch: 103, acc: 0.6611155167856199\n",
      "epoch: 104, acc: 0.6611155167856199\n",
      "epoch: 105, acc: 0.6611155167856199\n",
      "epoch: 106, acc: 0.6611155167856199\n",
      "epoch: 107, acc: 0.6608511763150938\n",
      "epoch: 108, acc: 0.6611155167856199\n",
      "epoch: 109, acc: 0.6611155167856199\n",
      "epoch: 110, acc: 0.6616441977266719\n",
      "epoch: 111, acc: 0.6616441977266719\n",
      "epoch: 112, acc: 0.6616441977266719\n",
      "epoch: 113, acc: 0.6616441977266719\n",
      "epoch: 114, acc: 0.661908538197198\n",
      "epoch: 115, acc: 0.661908538197198\n",
      "epoch: 116, acc: 0.661908538197198\n",
      "epoch: 117, acc: 0.661908538197198\n",
      "epoch: 118, acc: 0.661908538197198\n",
      "epoch: 119, acc: 0.661908538197198\n",
      "epoch: 120, acc: 0.661908538197198\n",
      "epoch: 121, acc: 0.662172878667724\n",
      "epoch: 122, acc: 0.662172878667724\n",
      "epoch: 123, acc: 0.662172878667724\n",
      "epoch: 124, acc: 0.662172878667724\n",
      "epoch: 125, acc: 0.662172878667724\n",
      "epoch: 126, acc: 0.66243721913825\n",
      "epoch: 127, acc: 0.66243721913825\n",
      "epoch: 128, acc: 0.66243721913825\n",
      "epoch: 129, acc: 0.66243721913825\n",
      "epoch: 130, acc: 0.6627015596087761\n",
      "epoch: 131, acc: 0.6627015596087761\n",
      "epoch: 132, acc: 0.6627015596087761\n",
      "epoch: 133, acc: 0.6627015596087761\n",
      "epoch: 134, acc: 0.6627015596087761\n",
      "epoch: 135, acc: 0.6627015596087761\n",
      "epoch: 136, acc: 0.6627015596087761\n",
      "epoch: 137, acc: 0.6627015596087761\n",
      "epoch: 138, acc: 0.66243721913825\n",
      "epoch: 139, acc: 0.6627015596087761\n",
      "epoch: 140, acc: 0.6627015596087761\n",
      "epoch: 141, acc: 0.66243721913825\n",
      "epoch: 142, acc: 0.66243721913825\n",
      "epoch: 143, acc: 0.6627015596087761\n",
      "epoch: 144, acc: 0.6627015596087761\n",
      "epoch: 145, acc: 0.6627015596087761\n",
      "epoch: 146, acc: 0.6627015596087761\n",
      "epoch: 147, acc: 0.6627015596087761\n",
      "epoch: 148, acc: 0.6629659000793021\n",
      "epoch: 149, acc: 0.6629659000793021\n",
      "epoch: 150, acc: 0.6629659000793021\n",
      "epoch: 151, acc: 0.6629659000793021\n",
      "epoch: 152, acc: 0.6629659000793021\n",
      "epoch: 153, acc: 0.6629659000793021\n",
      "epoch: 154, acc: 0.6629659000793021\n",
      "epoch: 155, acc: 0.6629659000793021\n",
      "epoch: 156, acc: 0.6629659000793021\n",
      "epoch: 157, acc: 0.6627015596087761\n",
      "epoch: 158, acc: 0.6627015596087761\n",
      "epoch: 159, acc: 0.6627015596087761\n",
      "epoch: 160, acc: 0.6627015596087761\n",
      "epoch: 161, acc: 0.66243721913825\n",
      "epoch: 162, acc: 0.66243721913825\n",
      "epoch: 163, acc: 0.6627015596087761\n",
      "epoch: 164, acc: 0.6627015596087761\n",
      "epoch: 165, acc: 0.6632302405498282\n",
      "epoch: 166, acc: 0.6632302405498282\n",
      "epoch: 167, acc: 0.6632302405498282\n",
      "epoch: 168, acc: 0.6632302405498282\n",
      "epoch: 169, acc: 0.6629659000793021\n",
      "epoch: 170, acc: 0.6632302405498282\n",
      "epoch: 171, acc: 0.6632302405498282\n",
      "epoch: 172, acc: 0.6634945810203542\n",
      "epoch: 173, acc: 0.6634945810203542\n",
      "epoch: 174, acc: 0.6637589214908802\n",
      "epoch: 175, acc: 0.6637589214908802\n",
      "epoch: 176, acc: 0.6640232619614063\n",
      "epoch: 177, acc: 0.6640232619614063\n",
      "epoch: 178, acc: 0.6640232619614063\n",
      "epoch: 179, acc: 0.6640232619614063\n",
      "epoch: 180, acc: 0.6640232619614063\n",
      "epoch: 181, acc: 0.6640232619614063\n",
      "epoch: 182, acc: 0.6640232619614063\n",
      "epoch: 183, acc: 0.6642876024319323\n",
      "epoch: 184, acc: 0.6642876024319323\n",
      "epoch: 185, acc: 0.6645519429024583\n",
      "epoch: 186, acc: 0.6645519429024583\n",
      "epoch: 187, acc: 0.6645519429024583\n",
      "epoch: 188, acc: 0.6645519429024583\n",
      "epoch: 189, acc: 0.6645519429024583\n",
      "epoch: 190, acc: 0.6645519429024583\n",
      "epoch: 191, acc: 0.6645519429024583\n",
      "epoch: 192, acc: 0.6645519429024583\n",
      "epoch: 193, acc: 0.6642876024319323\n",
      "epoch: 194, acc: 0.6642876024319323\n",
      "epoch: 195, acc: 0.6642876024319323\n",
      "epoch: 196, acc: 0.6642876024319323\n",
      "epoch: 197, acc: 0.6642876024319323\n",
      "epoch: 198, acc: 0.6642876024319323\n",
      "epoch: 199, acc: 0.6642876024319323\n"
     ]
    },
    {
     "data": {
      "text/plain": "<Figure size 2000x1000 with 1 Axes>",
      "image/png": "[encoded data removed]"
     },
     "metadata": {},
     "output_type": "display_data"
    }
   ],
   "source": [
    "theta =  np.zeros((num_of_feature, num_of_class)) # INITIALIZE  FILL IN\n",
    "diff = 1\n",
    "epoch = 1 \n",
    "\n",
    "running_acc = []\n",
    "while diff > 1e-10 and epoch < 200:\n",
    "    theta_old = copy.deepcopy(theta)\n",
    "    \n",
    "    # Train\n",
    "    for i in range (1,len(trlabel),batchsize):\n",
    "        endpos = min(len(trlabel)-1,i+batchsize)\n",
    "        loss = loss_fnc(trfeature[i:endpos,:],trlabel1hot[i:endpos,:],theta)\n",
    "        theta = apply_gradients(trfeature[i:endpos,:],trlabel1hot[i:endpos,:],theta,lr)\n",
    "\n",
    "    diff = np.linalg.norm(theta_old-theta)\n",
    "    \n",
    "    # Write code for prediction  \n",
    "    \n",
    "    # FILL IN TO ASSIGN test accuracy to variable test_accuracy using the prediction made above\n",
    "    test_accuracy = accuracy(tefeature, telabel1hot, theta)\n",
    "    running_acc.append(test_accuracy)\n",
    "    print('epoch: {}, acc: {}'.format(epoch, test_accuracy))\n",
    "    epoch = epoch + 1\n",
    "\n",
    "plt.figure(figsize=(20, 10))\n",
    "plt.plot(list(range(epoch - 1)), running_acc)\n",
    "plt.xlabel('epoch')\n",
    "plt.ylabel('running acc')\n",
    "plt.title('running acc vs. epoch')\n",
    "plt.show()"
   ]
  },
  {
   "cell_type": "code",
   "execution_count": 10,
   "outputs": [
    {
     "name": "stdout",
     "output_type": "stream",
     "text": [
      "final test accuracy: 0.6642876024319323\n"
     ]
    },
    {
     "data": {
      "text/plain": "<Figure size 2000x1000 with 1 Axes>",
      "image/png": "[encoded data removed]"
     },
     "metadata": {},
     "output_type": "display_data"
    }
   ],
   "source": [
    "# # Print final test accuracy\n",
    "print('final test accuracy: {}'.format(running_acc[-1]))\n",
    "#\n",
    "# # FILL IN THE FIRST ARGUMENT  SHOULD BE A COLUMN VECTOR CONTAINING THE 50th CATEGORY PREDICTION\n",
    "softmax_app = softmax(tefeature @ theta)\n",
    "preds_50 = softmax_app[:, 50]\n",
    "TPR, FPR = getROC(preds_50, telabel1hot[:, 50])\n",
    "\n",
    "#\n",
    "# # PLOT TPR VS FPR CURVE HERE\n",
    "plt.figure(figsize=(20, 10))\n",
    "plt.plot(FPR, TPR)\n",
    "plt.title('ROC curve')\n",
    "plt.xlabel('FPR')\n",
    "plt.ylabel('TPR')\n",
    "plt.show()"
   ],
   "metadata": {
    "collapsed": false,
    "ExecuteTime": {
     "end_time": "2023-05-13T05:27:30.716321018Z",
     "start_time": "2023-05-13T05:27:30.527284126Z"
    }
   }
  }
 ]
}

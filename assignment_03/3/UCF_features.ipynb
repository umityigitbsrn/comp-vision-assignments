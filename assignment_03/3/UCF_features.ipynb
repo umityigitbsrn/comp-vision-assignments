{
  "nbformat": 4,
  "nbformat_minor": 0,
  "metadata": {
    "colab": {
      "provenance": []
    },
    "kernelspec": {
      "name": "python3",
      "display_name": "Python 3"
    },
    "language_info": {
      "name": "python"
    }
  },
  "cells": [
    {
      "cell_type": "code",
      "execution_count": null,
      "metadata": {
        "id": "vpW9Hqucf_gA"
      },
      "outputs": [],
      "source": [
        "import os\n",
        "import numpy as np\n",
        "import scipy.io as sio\n",
        "import glob\n",
        "import numpy as np\n",
        "import torch\n",
        "import torchvision.transforms as transforms\n",
        "from PIL import Image\n",
        "# import all other relevant packages here\n",
        "\n",
        "\n",
        "# SPECIFY PATH TO THE DATASET\n",
        "path_to_dataset = '../tiny-UCF101/'\n",
        "\n",
        "def main():\n",
        "\n",
        "  feature = []\n",
        "  label = []\n",
        "  categories = sorted(os.listdir(path_to_dataset))\n",
        "\n",
        "  transform_test = transforms.Compose([\n",
        "    transforms.Scale(224),\n",
        "    transforms.ToTensor(),\n",
        "    transforms.Normalize((0.4914, 0.4822, 0.4465), (0.2023, 0.1994, 0.2010)),\n",
        "])\n",
        "\n",
        "  # FILL IN TO LOAD THE ResNet50 MODEL\n",
        "  extractor = \n",
        "  extractor.eval()\n",
        "  for i,c in enumerate(categories):    \n",
        "    path_to_images = sorted(glob.glob(os.path.join(path_to_dataset,c) + '/*.jpg'))\n",
        "    for p in path_to_images:\n",
        "      # FILL IN TO LOAD IMAGE, PREPROCESS, EXTRACT FEATURES. \n",
        "      # OUTPUT VARIABLE F EXPECTED TO BE THE FEATURE OF THE IMAGE OF DIMENSION (2048,)\n",
        "        \n",
        "      feature.append(F)\n",
        "      label.append(categories.index(c))\n",
        "  sio.savemat('ucf101dataset.mat', mdict={'feature': feature, 'label': label})\n",
        "\n",
        "\n",
        "if __name__ == \"__main__\":\n",
        "   main()"
      ]
    }
  ]
}